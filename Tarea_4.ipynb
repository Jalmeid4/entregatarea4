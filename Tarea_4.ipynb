{
  "cells": [
    {
      "cell_type": "markdown",
      "metadata": {
        "id": "view-in-github",
        "colab_type": "text"
      },
      "source": [
        "<a href=\"https://colab.research.google.com/github/Jalmeid4/entregatarea4/blob/main/Tarea_4.ipynb\" target=\"_parent\"><img src=\"https://colab.research.google.com/assets/colab-badge.svg\" alt=\"Open In Colab\"/></a>"
      ]
    },
    {
      "cell_type": "code",
      "execution_count": null,
      "metadata": {
        "colab": {
          "base_uri": "https://localhost:8080/",
          "height": 587
        },
        "id": "VFPxfLoGdny6",
        "outputId": "3e059dbf-212c-4b42-9520-7edde0613727"
      },
      "outputs": [
        {
          "output_type": "stream",
          "name": "stdout",
          "text": [
            "\n",
            " La velocidad del paracaidista la podemos expresar como \n",
            " V = g*m*(1 - exp(-c*t/m))/c \n",
            "\n"
          ]
        },
        {
          "output_type": "display_data",
          "data": {
            "text/plain": [
              "<Figure size 640x480 with 1 Axes>"
            ],
            "image/png": "[encoded data removed]"
          },
          "metadata": {}
        },
        {
          "output_type": "stream",
          "name": "stdout",
          "text": [
            "\n",
            " Podemos ver que la raiz de la ecuacion esta entre 14.5 y 15 \n",
            " entonces el coeficiente de arrastre C esta entre 14.5 y 15\n"
          ]
        }
      ],
      "source": [
        "#1) Determinación de la constante C de arrastre del paracaidista\n",
        "\n",
        "#Tenemos que la velocidad del paracaidista esta dada por la función\n",
        "import numpy as np\n",
        "import sympy as sp\n",
        "import matplotlib.pyplot as plt\n",
        "\n",
        "g = sp.Symbol('g')\n",
        "m = sp.Symbol('m')\n",
        "c = sp.Symbol('c')\n",
        "t = sp.Symbol('t')\n",
        "\n",
        "V = g*m/c*(1-sp.exp(-c*t/m))\n",
        "\n",
        "print('\\n La velocidad del paracaidista la podemos expresar como \\n V =',V,'\\n')\n",
        "#Entonces si buscamos el 0 de esa funcion para los datos dados tenemos que\n",
        "\n",
        "g = 9.81\n",
        "m = 68.1\n",
        "t = 10\n",
        "v = 40\n",
        "def Fc(c):\n",
        "  fc = g*m/c*(1 - np.exp(-c*t/m)) - v\n",
        "  return fc\n",
        "\n",
        "\n",
        "tt = np.arange(0.1,20,0.0001)\n",
        "aa = Fc(tt)\n",
        "plt.plot(tt,aa)\n",
        "plt.xlim(10,17)\n",
        "plt.xlabel('C',fontsize=20)\n",
        "plt.ylabel('Fc',fontsize=20,rotation=0)\n",
        "plt.grid()\n",
        "plt.show()\n",
        "print('\\n Podemos ver que la raiz de la ecuacion esta entre 14.5 y 15 \\n entonces el coeficiente de arrastre C esta entre 14.5 y 15')\n"
      ]
    },
    {
      "cell_type": "code",
      "execution_count": null,
      "metadata": {
        "id": "oSZR2fzflUcA",
        "colab": {
          "base_uri": "https://localhost:8080/"
        },
        "outputId": "5aa31a29-74d7-4625-c33f-b39fbbe52efb"
      },
      "outputs": [
        {
          "output_type": "stream",
          "name": "stdout",
          "text": [
            "\n",
            "\tREGLA DE CRAMER\n",
            "\n",
            "\n",
            "A1x + B1y + C1z = D1\n",
            "A2x + B2y + C2z = D2\n",
            "A3x + B3y + C3z = D3\n",
            "\n",
            "Ingresar valores:\n",
            "\n",
            "Ingrese A1 > 0.3\n",
            "Ingrese B1 > 0.52\n",
            "Ingrese C1 > 1\n",
            "Ingrese D1 > -0.01\n",
            "Ingrese A2 > 0.5\n",
            "Ingrese B2 > 1\n",
            "Ingrese C2 > 1.9\n",
            "Ingrese D2 > 0.67\n",
            "Ingrese A3 > 0.1\n",
            "Ingrese B3 > 0.3\n",
            "Ingrese C3 > 0.5\n",
            "Ingrese D3 > -0.44\n",
            "\n",
            " sistema= [[0.3, 0.52, 1.0, -0.01], [0.5, 1.0, 1.9, 0.67], [0.1, 0.3, 0.5, -0.44]]\n",
            "\n",
            " x =>  -14.89999999999975 \n",
            " y =>  -29.499999999999513 \n",
            " z =>  19.79999999999968\n",
            "\n",
            "\n",
            "Regla de Cramer terminado...\n"
          ]
        }
      ],
      "source": [
        "#2\n",
        "#Metodo de Cramer para resolver sistemas lineales de 3x3\n",
        "import os\n",
        "\n",
        "#Determinante\n",
        "def sarrus(A):\n",
        "    val = ((A[0][0]*A[1][1]*A[2][2])+\\\n",
        "           (A[0][1]*A[1][2]*A[2][0])+\\\n",
        "           (A[0][2]*A[1][0]*A[2][1]))-\\\n",
        "          ((A[2][0]*A[1][1]*A[0][2])+\\\n",
        "           (A[2][1]*A[1][2]*A[0][0])+\\\n",
        "           (A[2][2]*A[1][0]*A[0][1]))\n",
        "    return val\n",
        "\n",
        "#Creacion de una matriz almacén\n",
        "def main():\n",
        "    os.system(\"cls\")\n",
        "    sismat = [[0.0,0.0,0.0,0.0],\\\n",
        "              [0.0,0.0,0.0,0.0],\\\n",
        "              [0.0,0.0,0.0,0.0]]\n",
        "    res = [0.0,0.0,0.0]\n",
        "\n",
        "#Empieza a resolver el metodo\n",
        "    print (\"\\n\\tREGLA DE CRAMER\\n\\n\\nA1x + B1y + C1z = D1\")\n",
        "    print (\"A2x + B2y + C2z = D2\\nA3x + B3y + C3z = D3\\n\\nIngresar valores:\\n\")\n",
        "    #Asignar los valores del sistema de ecuaciones 3x3\n",
        "    sismat[0][0] = float(input(\"Ingrese A1 > \"))\n",
        "    sismat[0][1] = float(input(\"Ingrese B1 > \"))\n",
        "    sismat[0][2] = float(input(\"Ingrese C1 > \"))\n",
        "    sismat[0][3] = float(input(\"Ingrese D1 > \"))\n",
        "    sismat[1][0] = float(input(\"Ingrese A2 > \"))\n",
        "    sismat[1][1] = float(input(\"Ingrese B2 > \"))\n",
        "    sismat[1][2] = float(input(\"Ingrese C2 > \"))\n",
        "    sismat[1][3] = float(input(\"Ingrese D2 > \"))\n",
        "    sismat[2][0] = float(input(\"Ingrese A3 > \"))\n",
        "    sismat[2][1] = float(input(\"Ingrese B3 > \"))\n",
        "    sismat[2][2] = float(input(\"Ingrese C3 > \"))\n",
        "    sismat[2][3] = float(input(\"Ingrese D3 > \"))\n",
        "\n",
        "    mat_x = [[sismat[0][3],sismat[0][1],sismat[0][2]],\\\n",
        "             [sismat[1][3],sismat[1][1],sismat[1][2]],\\\n",
        "             [sismat[2][3],sismat[2][1],sismat[2][2]]]\n",
        "    mat_y = [[sismat[0][0],sismat[0][3],sismat[0][2]],\\\n",
        "             [sismat[1][0],sismat[1][3],sismat[1][2]],\\\n",
        "             [sismat[2][0],sismat[2][3],sismat[2][2]]]\n",
        "    mat_z = [[sismat[0][0],sismat[0][1],sismat[0][3]],\\\n",
        "             [sismat[1][0],sismat[1][1],sismat[1][3]],\\\n",
        "             [sismat[2][0],sismat[2][1],sismat[2][3]]]\n",
        "    det_mat = sarrus(sismat)\n",
        "\n",
        "#muestra la matriz expandida a resolver\n",
        "    print(\"\\n sistema=\",sismat)\n",
        "#Si el determinante es igual a 0 no se tiene solución\n",
        "    if (det_mat == 0):\n",
        "       print(\"Determinante de A nulo...\")\n",
        "#El determinante es diferente de 0 por lo tanto el sistema tiene solución\n",
        "    else:\n",
        "        det_matx = sarrus(mat_x)\n",
        "        det_maty = sarrus(mat_y)\n",
        "        det_matz = sarrus(mat_z)\n",
        "        #Calculo de los valores finales\n",
        "        res[0] = det_matx/det_mat\n",
        "        res[1] = det_maty/det_mat\n",
        "        res[2] = det_matz/det_mat\n",
        "        print (\"\\n x => \",res[0],\"\\n y => \",res[1],\"\\n z => \",res[2])\n",
        "        print(\"\\n\\nRegla de Cramer terminado...\")\n",
        "\n",
        "main()"
      ]
    },
    {
      "cell_type": "code",
      "source": [
        "#4 Regla del trapecio\n",
        "print('Regla del trapecio \\n')\n",
        "x = np.array([0,0.1,0.2,0.3,0.4,0.5])\n",
        "fx = np.array([1,8,4,3.5,5,1])\n",
        "w = np.size(x)\n",
        "\n",
        "def integratrapecio_fi(xi,fxi):\n",
        "    ''' sobre muestras de fi para cada xi\n",
        "        integral con método de trapecio\n",
        "    '''\n",
        "\n",
        "    suma = 0\n",
        "    for i in range(0,w-1,1):\n",
        "        dx = xi[i+1]-xi[i]\n",
        "        untrapecio = dx*(fxi[i+1]+fxi[i])/2\n",
        "        suma = suma + untrapecio\n",
        "    return(suma)\n",
        "\n",
        "\n",
        "# PROCEDIMIENTO\n",
        "Area = integratrapecio_fi(x,fx)\n",
        "\n",
        "# SALIDA\n",
        "print('tramos: ',w-1)\n",
        "print('Integral con trapecio: ',Area)\n",
        "\n",
        "#Regla de simpson 1/3\n",
        "print('\\nRegla de Simpson tercio \\n')\n",
        "\n",
        "#Vector extrapolado para poder obtener tramos iguales\n",
        "x = np.array([0,0.1,0.2,0.3,0.4,0.5,0.6])\n",
        "fx = np.array([1,8,6,4,3.5,5,1,-3])\n",
        "#Tamaño del vector x\n",
        "w = np.size(x)\n",
        "#Puntos inicial y final\n",
        "a = np.min(x)\n",
        "b = np.max(x)\n",
        "#Numero de tramos\n",
        "n = int(w-1)\n",
        "def integrasimpsontercio(xi,fxi):\n",
        "    ''' sobre muestras de fi para cada xi\n",
        "        integral con método de Simpson tercio\n",
        "    '''\n",
        "\n",
        "    sumap = 0\n",
        "    sumaip = 0\n",
        "    h = (b-a)/(w-1)\n",
        "\n",
        "    for i in range(0,n,2):\n",
        "           dx = xi[i+1]-xi[i]\n",
        "           sumap = sumap + fxi[i]\n",
        "    for j in range(1,n,2):\n",
        "           dx = xi[i]-xi[i-1]\n",
        "           sumaip = sumaip + fxi[i]\n",
        "    Simpsontercio = h/3*(fx[1]+4*sumaip+2*sumap+fx[n])\n",
        "    return(Simpsontercio)\n",
        "if (n)%6 != 0:\n",
        "    print('tramos: ',w-1)\n",
        "    print('El numero de tramos debe ser numero par')\n",
        "else:\n",
        "# PROCEDIMIENTO\n",
        "    Area2 = integrasimpsontercio(x,fx)\n",
        "\n",
        "# SALIDA\n",
        "    print('tramos: ',w-1)\n",
        "    print('Integral con simpson tercio: ',Area2)\n",
        "\n",
        "#Regla de Simpson tres octavos\n",
        "print('\\nRegla de Simpson tres octavos \\n')\n",
        "\n",
        "def integrasimpson38_fi(xi,fi,tolera ):\n",
        "    ''' sobre muestras de fi para cada xi\n",
        "        integral con método de Simpson 3/8\n",
        "        respuesta es np.nan para tramos desiguales,\n",
        "        no hay suficientes puntos.\n",
        "    '''\n",
        "    #numero de tramos\n",
        "    n = len(xi)\n",
        "    #contador\n",
        "    i = 0\n",
        "    suma = 0\n",
        "    while not(i>=(n-3)):\n",
        "        h  = xi[i+1]-xi[i]\n",
        "        h1 = (xi[i+2]-xi[i+1])\n",
        "        h2 = (xi[i+3]-xi[i+2])\n",
        "        dh = abs(h-h1)+abs(h-h2)\n",
        "        if dh<tolera:# tramos iguales\n",
        "            unS38 = fi[i]+3*fi[i+1]+3*fi[i+2]+fi[i+3]\n",
        "            unS38 = (3/8)*h*unS38\n",
        "            suma = suma + unS38\n",
        "        else:  # tramos desiguales\n",
        "            suma = 'tramos desiguales'\n",
        "        i = i + 3\n",
        "    if (i+1)<n: # incompleto, tramos por calcular\n",
        "        suma = 'tramos incompletos, faltan '\n",
        "        suma = suma +str(n-(i+1))+' tramos'\n",
        "    return(suma)\n",
        "\n",
        "# PROGRAMA -----------------\n",
        "\n",
        "\n",
        "# PROCEDIMIENTO\n",
        "n = len(x)-1\n",
        "Area = integrasimpson38_fi(x,fx,1e-10)\n",
        "\n",
        "# SALIDA\n",
        "print('tramos: ',n)\n",
        "print('Integral con Simpson 3/8: ',Area)\n",
        "if type(Area)==str:\n",
        "    print('  Revisar errores')"
      ],
      "metadata": {
        "colab": {
          "base_uri": "https://localhost:8080/"
        },
        "id": "Rp9QsYE48G9H",
        "outputId": "130a50d7-61b6-443a-d3e6-d2d0db212e1f"
      },
      "execution_count": null,
      "outputs": [
        {
          "output_type": "stream",
          "name": "stdout",
          "text": [
            "Regla del trapecio \n",
            "\n",
            "tramos:  5\n",
            "Integral con trapecio:  2.15\n",
            "\n",
            "Regla de Simpson tercio \n",
            "\n",
            "tramos:  6\n",
            "Integral con simpson tercio:  2.4\n",
            "\n",
            "Regla de Simpson tres octavos \n",
            "\n",
            "tramos:  6\n",
            "Integral con Simpson 3/8:  2.906250000000001\n"
          ]
        }
      ]
    },
    {
      "cell_type": "markdown",
      "source": [
        " ###### #5 integrar analiticamente\n",
        " $\\frac{dy}{dt}=yt^2-1.1y$"
      ],
      "metadata": {
        "id": "PH2V0GOKvg3g"
      }
    },
    {
      "cell_type": "code",
      "source": [
        "''' Despejamos la ecuacion y pasamos las y para el lado izquierdo dividiend y\n",
        " pasamos el dt multiplicando e integramos ambos lados\n",
        " '''\n",
        "\n",
        "#del lado izquierdo\n",
        "\n",
        "y = sp.symbols('y')\n",
        "t = sp.symbols('t')\n",
        "C=sp.symbols('C')\n",
        "Ls=1/y\n",
        "Lsint=sp.integrate(Ls,y)\n",
        "print('Del lado izquierdo =',Lsint)\n",
        "\n",
        "#del lado derecho\n",
        "Rs = t**2-1.1\n",
        "Rsint=sp.integrate(Rs,t)\n",
        "print('\\nDel lado derecho =',Rsint+C)\n",
        "\n",
        "#entonces nos queda que\n",
        "yf=sp.exp(0.333333333333333*t**3 - 1.1*t)\n",
        "print('\\nCon la condicion inicial no queda que y vale y=',yf)"
      ],
      "metadata": {
        "colab": {
          "base_uri": "https://localhost:8080/"
        },
        "id": "2l495aPAPWzR",
        "outputId": "5fb789a2-62d8-47e6-8450-bd07cbc3055f"
      },
      "execution_count": null,
      "outputs": [
        {
          "output_type": "stream",
          "name": "stdout",
          "text": [
            "Del lado izquierdo = log(y)\n",
            "\n",
            "Del lado derecho = C + 0.333333333333333*t**3 - 1.1*t\n",
            "\n",
            "Con la condicion inicial no queda que y vale y= exp(0.333333333333333*t**3 - 1.1*t)\n"
          ]
        }
      ]
    },
    {
      "cell_type": "code",
      "source": [
        "#Metodo de euler\n",
        "\n",
        "# Descripción del problema\n",
        "\n",
        "def df(t,y):\n",
        "    f = y*t**2-1.1*y\n",
        "    return f\n",
        "def Euler(ti,tf,yi,paso):\n",
        "    print(\" y'=\",fun ,\", y(0) = \",yi,\", \"\"h =\",paso, \" donde t va variando de\" ,ti, \"a\" ,tf)\n",
        "    print(\"Encuentre los valores de y mediante el método numérico de Euler.\")\n",
        "    print(\"\\n\")\n",
        "\n",
        "# Valores iniciales\n",
        "    t0 = ti\n",
        "    y0 = yi\n",
        "\n",
        "# Valor final de t\n",
        "    tn = tf\n",
        "\n",
        "# Tamaño del paso\n",
        "    h = paso\n",
        "\n",
        "# Número de subintervalos\n",
        "    N = int((tn - t0) / h)\n",
        "\n",
        "    t=np.array([t0])\n",
        "    y=np.array([y0])\n",
        "\n",
        "    for i in range (1,N+1):\n",
        "        yn = y0 + h*df(t0,y0)\n",
        "        y0 = yn\n",
        "        t0 = t0 + h\n",
        "        t=np.append(t,t0)\n",
        "        y=np.append(y,y0)\n",
        "    print(t)\n",
        "    print(y)\n",
        "    print('\\n')\n",
        "    return\n",
        "Euler(0,2,1,0.5)\n",
        "Euler(0,2,1,0.25)"
      ],
      "metadata": {
        "colab": {
          "base_uri": "https://localhost:8080/"
        },
        "id": "ehwTD2TqxgoR",
        "outputId": "1ed5a040-9073-4c1f-d58d-94a396139c23"
      },
      "execution_count": null,
      "outputs": [
        {
          "output_type": "stream",
          "name": "stdout",
          "text": [
            " y'= t**2*y - 1.1*y , y(0) =  1 , h = 0.5  donde t va variando de 0 a 2\n",
            "Encuentre los valores de y mediante el método numérico de Euler.\n",
            "\n",
            "\n",
            "[0.  0.5 1.  1.5 2. ]\n",
            "[1.         0.45       0.25875    0.2458125  0.38715469]\n",
            "\n",
            "\n",
            " y'= t**2*y - 1.1*y , y(0) =  1 , h = 0.25  donde t va variando de 0 a 2\n",
            "Encuentre los valores de y mediante el método numérico de Euler.\n",
            "\n",
            "\n",
            "[0.   0.25 0.5  0.75 1.   1.25 1.5  1.75 2.  ]\n",
            "[1.         0.725      0.53695312 0.42285059 0.36603004 0.35687929\n",
            " 0.39814346 0.5126097  0.76410883]\n",
            "\n",
            "\n"
          ]
        }
      ]
    },
    {
      "cell_type": "code",
      "source": [
        "# EDO. Método de RungeKutta 2do Orden\n",
        "# estima la solucion para muestras espaciadas h en eje x\n",
        "# valores iniciales x0,y0\n",
        "# entrega arreglo [[x,y]]\n",
        "import numpy as np\n",
        "def df(t,y):\n",
        "    f = y*t**2-1.1*y\n",
        "    return f\n",
        "def rungekutta2(x0,xf,y0,h):\n",
        "    tamano   = int((xf-x0)/h)\n",
        "    estimado = np.zeros(shape=(tamano+1,2),dtype=float)\n",
        "    # incluye el punto [x0,y0]\n",
        "    estimado[0] = [x0,y0]\n",
        "    xi = x0\n",
        "    yi = y0\n",
        "    ft=fun\n",
        "\n",
        "    for i in range(1,tamano+1,1):\n",
        "        K1 = h * df(xi,yi)\n",
        "        K2 = h * df(xi+h, yi + K1)\n",
        "\n",
        "        yi = yi + (K1+K2)/2\n",
        "        xi = xi + h\n",
        "\n",
        "\n",
        "        estimado[i] = [xi,yi]\n",
        "    return(estimado)\n",
        "print('Devuelve un array con la columna izquierda de las x y la columna derecha el valor de la y')\n",
        "rungekutta2(0,2,1,0.5)"
      ],
      "metadata": {
        "colab": {
          "base_uri": "https://localhost:8080/"
        },
        "id": "7TxGSVSr2zTE",
        "outputId": "66dcd27f-e681-4395-b30d-f9301f317e67"
      },
      "execution_count": null,
      "outputs": [
        {
          "output_type": "stream",
          "name": "stdout",
          "text": [
            "Devuelve un array con la columna izquierda de las x y la columna derecha el valor de la y\n"
          ]
        },
        {
          "output_type": "execute_result",
          "data": {
            "text/plain": [
              "array([[0.        , 1.        ],\n",
              "       [0.5       , 0.629375  ],\n",
              "       [1.        , 0.48658555],\n",
              "       [1.5       , 0.60731959],\n",
              "       [2.        , 1.47540702]])"
            ]
          },
          "metadata": {},
          "execution_count": 419
        }
      ]
    },
    {
      "cell_type": "code",
      "source": [
        "type(n/6)"
      ],
      "metadata": {
        "colab": {
          "base_uri": "https://localhost:8080/"
        },
        "id": "Xel_GRhkPNvZ",
        "outputId": "cfc961c7-a90a-4dac-fc7c-18dc11e9d7b7"
      },
      "execution_count": null,
      "outputs": [
        {
          "output_type": "execute_result",
          "data": {
            "text/plain": [
              "float"
            ]
          },
          "metadata": {},
          "execution_count": 394
        }
      ]
    },
    {
      "cell_type": "code",
      "source": [
        "# Integración Simpson 1/3\n",
        "# Usando una muestras xi,fi\n",
        "import numpy as np\n",
        "import matplotlib.pyplot as plt\n",
        "\n",
        "def integrasimpson38_fi(xi,fi,tolera = 1e-10):\n",
        "    ''' sobre muestras de fi para cada xi\n",
        "        integral con método de Simpson 3/8\n",
        "        respuesta es np.nan para tramos desiguales,\n",
        "        no hay suficientes puntos.\n",
        "    '''\n",
        "    n = len(xi)\n",
        "    i = 0\n",
        "    suma = 0\n",
        "    while not(i>=(n-3)):\n",
        "        h  = xi[i+1]-xi[i]\n",
        "        h1 = (xi[i+2]-xi[i+1])\n",
        "        h2 = (xi[i+3]-xi[i+2])\n",
        "        dh = abs(h-h1)+abs(h-h2)\n",
        "        if dh<tolera:# tramos iguales\n",
        "            unS38 = fi[i]+3*fi[i+1]+3*fi[i+2]+fi[i+3]\n",
        "            unS38 = (3/8)*h*unS38\n",
        "            suma = suma + unS38\n",
        "        else:  # tramos desiguales\n",
        "            suma = 'tramos desiguales'\n",
        "        i = i + 3\n",
        "    if (i+1)<n: # incompleto, tramos por calcular\n",
        "        suma = 'tramos incompletos, faltan '\n",
        "        suma = suma +str(n-(i+1))+' tramos'\n",
        "    return(suma)\n",
        "\n",
        "# PROGRAMA -----------------\n",
        "# INGRESO\n",
        "xi = [1.        , 1.33333333, 1.66666667, 2.        ,\n",
        "      2.33333333, 2.66666667, 3.        ]\n",
        "fi = [0.84147098, 1.12229722, 1.28506615, 1.28594075,\n",
        "      1.10453193, 0.74672307, 0.24442702]\n",
        "tolera = 1e-7\n",
        "\n",
        "# PROCEDIMIENTO\n",
        "n = len(xi)-1\n",
        "Area = integrasimpson38_fi(xi,fi,tolera)\n",
        "\n",
        "# SALIDA\n",
        "print('tramos: ',n)\n",
        "print('Integral con Simpson 3/8: ',Area)\n",
        "if type(Area)==str:\n",
        "    print('  Revisar errores')"
      ],
      "metadata": {
        "colab": {
          "base_uri": "https://localhost:8080/"
        },
        "id": "aYQgi17oPQeB",
        "outputId": "6d352228-aa85-482d-ad4f-da329916ee57"
      },
      "execution_count": null,
      "outputs": [
        {
          "output_type": "stream",
          "name": "stdout",
          "text": [
            "tramos:  6\n",
            "Integral con Simpson 3/8:  2.0542043057079566\n"
          ]
        }
      ]
    },
    {
      "cell_type": "code",
      "source": [],
      "metadata": {
        "id": "r6eF8FhiQ-N3"
      },
      "execution_count": null,
      "outputs": []
    }
  ],
  "metadata": {
    "colab": {
      "provenance": [],
      "include_colab_link": true
    },
    "kernelspec": {
      "display_name": "Python 3",
      "name": "python3"
    },
    "language_info": {
      "name": "python"
    }
  },
  "nbformat": 4,
  "nbformat_minor": 0
}